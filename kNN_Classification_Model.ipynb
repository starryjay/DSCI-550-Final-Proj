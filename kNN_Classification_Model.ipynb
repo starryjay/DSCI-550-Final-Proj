{
  "nbformat": 4,
  "nbformat_minor": 0,
  "metadata": {
    "colab": {
      "provenance": []
    },
    "kernelspec": {
      "name": "python3",
      "display_name": "Python 3"
    },
    "language_info": {
      "name": "python"
    }
  },
  "cells": [
    {
      "cell_type": "markdown",
      "source": [
        "# **Fitting a K-Nearest Neighbors (kNN) Classification model using SCiKit Learn**\n"
      ],
      "metadata": {
        "id": "wfY9Gy37XKSl"
      }
    },
    {
      "cell_type": "markdown",
      "source": [
        "Using a kNN Classification model from SciKit Learn, we can attempt to predict the incidence of diabetes cases given the 21 lifestyle factors. In order to ensure the best k value for our model we will use Cross Validation to generate a k value followed by GridSearch to hypertune it. The model will be evaulauted on its Accuracy, Precision, Recall, F1 Score, ROC Curve and AUC."
      ],
      "metadata": {
        "id": "WoP0WyGVYuaR"
      }
    },
    {
      "cell_type": "markdown",
      "source": [
        "## **Importing Data and Necessary Libraries**\n",
        "\n",
        "In order to build our kNN Classification Model we need to first import the necessary packages/libraries along with our data. Our data is sourced from Kaggle but its originally from the CDC's 2015 Behavioral Risk Factor Surveillance System  which is a large-scale survey that collects data on American's health-related risk behaviors and chronic health conditions. From the datafiles available on Kaggle, we chose to use the 50-50 split data i.e. wherein there is a 50-50 split between diabetics and non-diabetics, since the original dataset had a large skew towards non-diabetics and could potentially impact our model and its results. The dataset is cleaned and is devoid of null values, thus, can be imported as is without additional pre-processing.\n",
        "\n",
        "\n"
      ],
      "metadata": {
        "id": "poDk6ATBcGWG"
      }
    },
    {
      "cell_type": "markdown",
      "source": [
        "Neccessary Libraries/Packages were imported such as Pandas, Numpy and MatplotLib.Pyplot as well as Scikit Learn."
      ],
      "metadata": {
        "id": "UD5_m1cmdX76"
      }
    },
    {
      "cell_type": "code",
      "execution_count": 1,
      "metadata": {
        "id": "nEHd3Zd_uIzI"
      },
      "outputs": [],
      "source": [
        "# import packages\n",
        "import pandas as pd\n",
        "import numpy as np\n",
        "import matplotlib.pyplot as plt\n",
        "\n",
        "from sklearn.preprocessing import StandardScaler\n",
        "from sklearn.model_selection import train_test_split\n",
        "from sklearn.neighbors import KNeighborsClassifier\n",
        "from sklearn.model_selection import GridSearchCV\n",
        "from sklearn import metrics"
      ]
    },
    {
      "cell_type": "markdown",
      "source": [
        "The 50-50 split dataset is imported and stored in a Pandas Dataframe. .head() is used to ensure that the data is correctly imported."
      ],
      "metadata": {
        "id": "v9N9mFfUdl12"
      }
    },
    {
      "cell_type": "code",
      "source": [
        "# load and read dataset into dataframe\n",
        "diabetes_df = pd.read_csv('/content/drive/MyDrive/diabetes.csv')\n",
        "diabetes_df.head()"
      ],
      "metadata": {
        "colab": {
          "base_uri": "https://localhost:8080/",
          "height": 256
        },
        "id": "S3PuocutyZ9G",
        "outputId": "db04e040-662b-4a08-be7b-48269ab25a34"
      },
      "execution_count": 2,
      "outputs": [
        {
          "output_type": "execute_result",
          "data": {
            "text/plain": [
              "   Diabetes_binary  HighBP  HighChol  CholCheck   BMI  Smoker  Stroke  \\\n",
              "0              0.0     1.0       0.0        1.0  26.0     0.0     0.0   \n",
              "1              0.0     1.0       1.0        1.0  26.0     1.0     1.0   \n",
              "2              0.0     0.0       0.0        1.0  26.0     0.0     0.0   \n",
              "3              0.0     1.0       1.0        1.0  28.0     1.0     0.0   \n",
              "4              0.0     0.0       0.0        1.0  29.0     1.0     0.0   \n",
              "\n",
              "   HeartDiseaseorAttack  PhysActivity  Fruits  ...  AnyHealthcare  \\\n",
              "0                   0.0           1.0     0.0  ...            1.0   \n",
              "1                   0.0           0.0     1.0  ...            1.0   \n",
              "2                   0.0           1.0     1.0  ...            1.0   \n",
              "3                   0.0           1.0     1.0  ...            1.0   \n",
              "4                   0.0           1.0     1.0  ...            1.0   \n",
              "\n",
              "   NoDocbcCost  GenHlth  MentHlth  PhysHlth  DiffWalk  Sex   Age  Education  \\\n",
              "0          0.0      3.0       5.0      30.0       0.0  1.0   4.0        6.0   \n",
              "1          0.0      3.0       0.0       0.0       0.0  1.0  12.0        6.0   \n",
              "2          0.0      1.0       0.0      10.0       0.0  1.0  13.0        6.0   \n",
              "3          0.0      3.0       0.0       3.0       0.0  1.0  11.0        6.0   \n",
              "4          0.0      2.0       0.0       0.0       0.0  0.0   8.0        5.0   \n",
              "\n",
              "   Income  \n",
              "0     8.0  \n",
              "1     8.0  \n",
              "2     8.0  \n",
              "3     8.0  \n",
              "4     8.0  \n",
              "\n",
              "[5 rows x 22 columns]"
            ],
            "text/html": [
              "\n",
              "  <div id=\"df-7a81e5dc-95d9-475e-8c90-caa6bad6b2d7\" class=\"colab-df-container\">\n",
              "    <div>\n",
              "<style scoped>\n",
              "    .dataframe tbody tr th:only-of-type {\n",
              "        vertical-align: middle;\n",
              "    }\n",
              "\n",
              "    .dataframe tbody tr th {\n",
              "        vertical-align: top;\n",
              "    }\n",
              "\n",
              "    .dataframe thead th {\n",
              "        text-align: right;\n",
              "    }\n",
              "</style>\n",
              "<table border=\"1\" class=\"dataframe\">\n",
              "  <thead>\n",
              "    <tr style=\"text-align: right;\">\n",
              "      <th></th>\n",
              "      <th>Diabetes_binary</th>\n",
              "      <th>HighBP</th>\n",
              "      <th>HighChol</th>\n",
              "      <th>CholCheck</th>\n",
              "      <th>BMI</th>\n",
              "      <th>Smoker</th>\n",
              "      <th>Stroke</th>\n",
              "      <th>HeartDiseaseorAttack</th>\n",
              "      <th>PhysActivity</th>\n",
              "      <th>Fruits</th>\n",
              "      <th>...</th>\n",
              "      <th>AnyHealthcare</th>\n",
              "      <th>NoDocbcCost</th>\n",
              "      <th>GenHlth</th>\n",
              "      <th>MentHlth</th>\n",
              "      <th>PhysHlth</th>\n",
              "      <th>DiffWalk</th>\n",
              "      <th>Sex</th>\n",
              "      <th>Age</th>\n",
              "      <th>Education</th>\n",
              "      <th>Income</th>\n",
              "    </tr>\n",
              "  </thead>\n",
              "  <tbody>\n",
              "    <tr>\n",
              "      <th>0</th>\n",
              "      <td>0.0</td>\n",
              "      <td>1.0</td>\n",
              "      <td>0.0</td>\n",
              "      <td>1.0</td>\n",
              "      <td>26.0</td>\n",
              "      <td>0.0</td>\n",
              "      <td>0.0</td>\n",
              "      <td>0.0</td>\n",
              "      <td>1.0</td>\n",
              "      <td>0.0</td>\n",
              "      <td>...</td>\n",
              "      <td>1.0</td>\n",
              "      <td>0.0</td>\n",
              "      <td>3.0</td>\n",
              "      <td>5.0</td>\n",
              "      <td>30.0</td>\n",
              "      <td>0.0</td>\n",
              "      <td>1.0</td>\n",
              "      <td>4.0</td>\n",
              "      <td>6.0</td>\n",
              "      <td>8.0</td>\n",
              "    </tr>\n",
              "    <tr>\n",
              "      <th>1</th>\n",
              "      <td>0.0</td>\n",
              "      <td>1.0</td>\n",
              "      <td>1.0</td>\n",
              "      <td>1.0</td>\n",
              "      <td>26.0</td>\n",
              "      <td>1.0</td>\n",
              "      <td>1.0</td>\n",
              "      <td>0.0</td>\n",
              "      <td>0.0</td>\n",
              "      <td>1.0</td>\n",
              "      <td>...</td>\n",
              "      <td>1.0</td>\n",
              "      <td>0.0</td>\n",
              "      <td>3.0</td>\n",
              "      <td>0.0</td>\n",
              "      <td>0.0</td>\n",
              "      <td>0.0</td>\n",
              "      <td>1.0</td>\n",
              "      <td>12.0</td>\n",
              "      <td>6.0</td>\n",
              "      <td>8.0</td>\n",
              "    </tr>\n",
              "    <tr>\n",
              "      <th>2</th>\n",
              "      <td>0.0</td>\n",
              "      <td>0.0</td>\n",
              "      <td>0.0</td>\n",
              "      <td>1.0</td>\n",
              "      <td>26.0</td>\n",
              "      <td>0.0</td>\n",
              "      <td>0.0</td>\n",
              "      <td>0.0</td>\n",
              "      <td>1.0</td>\n",
              "      <td>1.0</td>\n",
              "      <td>...</td>\n",
              "      <td>1.0</td>\n",
              "      <td>0.0</td>\n",
              "      <td>1.0</td>\n",
              "      <td>0.0</td>\n",
              "      <td>10.0</td>\n",
              "      <td>0.0</td>\n",
              "      <td>1.0</td>\n",
              "      <td>13.0</td>\n",
              "      <td>6.0</td>\n",
              "      <td>8.0</td>\n",
              "    </tr>\n",
              "    <tr>\n",
              "      <th>3</th>\n",
              "      <td>0.0</td>\n",
              "      <td>1.0</td>\n",
              "      <td>1.0</td>\n",
              "      <td>1.0</td>\n",
              "      <td>28.0</td>\n",
              "      <td>1.0</td>\n",
              "      <td>0.0</td>\n",
              "      <td>0.0</td>\n",
              "      <td>1.0</td>\n",
              "      <td>1.0</td>\n",
              "      <td>...</td>\n",
              "      <td>1.0</td>\n",
              "      <td>0.0</td>\n",
              "      <td>3.0</td>\n",
              "      <td>0.0</td>\n",
              "      <td>3.0</td>\n",
              "      <td>0.0</td>\n",
              "      <td>1.0</td>\n",
              "      <td>11.0</td>\n",
              "      <td>6.0</td>\n",
              "      <td>8.0</td>\n",
              "    </tr>\n",
              "    <tr>\n",
              "      <th>4</th>\n",
              "      <td>0.0</td>\n",
              "      <td>0.0</td>\n",
              "      <td>0.0</td>\n",
              "      <td>1.0</td>\n",
              "      <td>29.0</td>\n",
              "      <td>1.0</td>\n",
              "      <td>0.0</td>\n",
              "      <td>0.0</td>\n",
              "      <td>1.0</td>\n",
              "      <td>1.0</td>\n",
              "      <td>...</td>\n",
              "      <td>1.0</td>\n",
              "      <td>0.0</td>\n",
              "      <td>2.0</td>\n",
              "      <td>0.0</td>\n",
              "      <td>0.0</td>\n",
              "      <td>0.0</td>\n",
              "      <td>0.0</td>\n",
              "      <td>8.0</td>\n",
              "      <td>5.0</td>\n",
              "      <td>8.0</td>\n",
              "    </tr>\n",
              "  </tbody>\n",
              "</table>\n",
              "<p>5 rows × 22 columns</p>\n",
              "</div>\n",
              "    <div class=\"colab-df-buttons\">\n",
              "\n",
              "  <div class=\"colab-df-container\">\n",
              "    <button class=\"colab-df-convert\" onclick=\"convertToInteractive('df-7a81e5dc-95d9-475e-8c90-caa6bad6b2d7')\"\n",
              "            title=\"Convert this dataframe to an interactive table.\"\n",
              "            style=\"display:none;\">\n",
              "\n",
              "  <svg xmlns=\"http://www.w3.org/2000/svg\" height=\"24px\" viewBox=\"0 -960 960 960\">\n",
              "    <path d=\"M120-120v-720h720v720H120Zm60-500h600v-160H180v160Zm220 220h160v-160H400v160Zm0 220h160v-160H400v160ZM180-400h160v-160H180v160Zm440 0h160v-160H620v160ZM180-180h160v-160H180v160Zm440 0h160v-160H620v160Z\"/>\n",
              "  </svg>\n",
              "    </button>\n",
              "\n",
              "  <style>\n",
              "    .colab-df-container {\n",
              "      display:flex;\n",
              "      gap: 12px;\n",
              "    }\n",
              "\n",
              "    .colab-df-convert {\n",
              "      background-color: #E8F0FE;\n",
              "      border: none;\n",
              "      border-radius: 50%;\n",
              "      cursor: pointer;\n",
              "      display: none;\n",
              "      fill: #1967D2;\n",
              "      height: 32px;\n",
              "      padding: 0 0 0 0;\n",
              "      width: 32px;\n",
              "    }\n",
              "\n",
              "    .colab-df-convert:hover {\n",
              "      background-color: #E2EBFA;\n",
              "      box-shadow: 0px 1px 2px rgba(60, 64, 67, 0.3), 0px 1px 3px 1px rgba(60, 64, 67, 0.15);\n",
              "      fill: #174EA6;\n",
              "    }\n",
              "\n",
              "    .colab-df-buttons div {\n",
              "      margin-bottom: 4px;\n",
              "    }\n",
              "\n",
              "    [theme=dark] .colab-df-convert {\n",
              "      background-color: #3B4455;\n",
              "      fill: #D2E3FC;\n",
              "    }\n",
              "\n",
              "    [theme=dark] .colab-df-convert:hover {\n",
              "      background-color: #434B5C;\n",
              "      box-shadow: 0px 1px 3px 1px rgba(0, 0, 0, 0.15);\n",
              "      filter: drop-shadow(0px 1px 2px rgba(0, 0, 0, 0.3));\n",
              "      fill: #FFFFFF;\n",
              "    }\n",
              "  </style>\n",
              "\n",
              "    <script>\n",
              "      const buttonEl =\n",
              "        document.querySelector('#df-7a81e5dc-95d9-475e-8c90-caa6bad6b2d7 button.colab-df-convert');\n",
              "      buttonEl.style.display =\n",
              "        google.colab.kernel.accessAllowed ? 'block' : 'none';\n",
              "\n",
              "      async function convertToInteractive(key) {\n",
              "        const element = document.querySelector('#df-7a81e5dc-95d9-475e-8c90-caa6bad6b2d7');\n",
              "        const dataTable =\n",
              "          await google.colab.kernel.invokeFunction('convertToInteractive',\n",
              "                                                    [key], {});\n",
              "        if (!dataTable) return;\n",
              "\n",
              "        const docLinkHtml = 'Like what you see? Visit the ' +\n",
              "          '<a target=\"_blank\" href=https://colab.research.google.com/notebooks/data_table.ipynb>data table notebook</a>'\n",
              "          + ' to learn more about interactive tables.';\n",
              "        element.innerHTML = '';\n",
              "        dataTable['output_type'] = 'display_data';\n",
              "        await google.colab.output.renderOutput(dataTable, element);\n",
              "        const docLink = document.createElement('div');\n",
              "        docLink.innerHTML = docLinkHtml;\n",
              "        element.appendChild(docLink);\n",
              "      }\n",
              "    </script>\n",
              "  </div>\n",
              "\n",
              "\n",
              "<div id=\"df-c9723543-e0d6-4ee6-93a5-7014e1ba7980\">\n",
              "  <button class=\"colab-df-quickchart\" onclick=\"quickchart('df-c9723543-e0d6-4ee6-93a5-7014e1ba7980')\"\n",
              "            title=\"Suggest charts\"\n",
              "            style=\"display:none;\">\n",
              "\n",
              "<svg xmlns=\"http://www.w3.org/2000/svg\" height=\"24px\"viewBox=\"0 0 24 24\"\n",
              "     width=\"24px\">\n",
              "    <g>\n",
              "        <path d=\"M19 3H5c-1.1 0-2 .9-2 2v14c0 1.1.9 2 2 2h14c1.1 0 2-.9 2-2V5c0-1.1-.9-2-2-2zM9 17H7v-7h2v7zm4 0h-2V7h2v10zm4 0h-2v-4h2v4z\"/>\n",
              "    </g>\n",
              "</svg>\n",
              "  </button>\n",
              "\n",
              "<style>\n",
              "  .colab-df-quickchart {\n",
              "      --bg-color: #E8F0FE;\n",
              "      --fill-color: #1967D2;\n",
              "      --hover-bg-color: #E2EBFA;\n",
              "      --hover-fill-color: #174EA6;\n",
              "      --disabled-fill-color: #AAA;\n",
              "      --disabled-bg-color: #DDD;\n",
              "  }\n",
              "\n",
              "  [theme=dark] .colab-df-quickchart {\n",
              "      --bg-color: #3B4455;\n",
              "      --fill-color: #D2E3FC;\n",
              "      --hover-bg-color: #434B5C;\n",
              "      --hover-fill-color: #FFFFFF;\n",
              "      --disabled-bg-color: #3B4455;\n",
              "      --disabled-fill-color: #666;\n",
              "  }\n",
              "\n",
              "  .colab-df-quickchart {\n",
              "    background-color: var(--bg-color);\n",
              "    border: none;\n",
              "    border-radius: 50%;\n",
              "    cursor: pointer;\n",
              "    display: none;\n",
              "    fill: var(--fill-color);\n",
              "    height: 32px;\n",
              "    padding: 0;\n",
              "    width: 32px;\n",
              "  }\n",
              "\n",
              "  .colab-df-quickchart:hover {\n",
              "    background-color: var(--hover-bg-color);\n",
              "    box-shadow: 0 1px 2px rgba(60, 64, 67, 0.3), 0 1px 3px 1px rgba(60, 64, 67, 0.15);\n",
              "    fill: var(--button-hover-fill-color);\n",
              "  }\n",
              "\n",
              "  .colab-df-quickchart-complete:disabled,\n",
              "  .colab-df-quickchart-complete:disabled:hover {\n",
              "    background-color: var(--disabled-bg-color);\n",
              "    fill: var(--disabled-fill-color);\n",
              "    box-shadow: none;\n",
              "  }\n",
              "\n",
              "  .colab-df-spinner {\n",
              "    border: 2px solid var(--fill-color);\n",
              "    border-color: transparent;\n",
              "    border-bottom-color: var(--fill-color);\n",
              "    animation:\n",
              "      spin 1s steps(1) infinite;\n",
              "  }\n",
              "\n",
              "  @keyframes spin {\n",
              "    0% {\n",
              "      border-color: transparent;\n",
              "      border-bottom-color: var(--fill-color);\n",
              "      border-left-color: var(--fill-color);\n",
              "    }\n",
              "    20% {\n",
              "      border-color: transparent;\n",
              "      border-left-color: var(--fill-color);\n",
              "      border-top-color: var(--fill-color);\n",
              "    }\n",
              "    30% {\n",
              "      border-color: transparent;\n",
              "      border-left-color: var(--fill-color);\n",
              "      border-top-color: var(--fill-color);\n",
              "      border-right-color: var(--fill-color);\n",
              "    }\n",
              "    40% {\n",
              "      border-color: transparent;\n",
              "      border-right-color: var(--fill-color);\n",
              "      border-top-color: var(--fill-color);\n",
              "    }\n",
              "    60% {\n",
              "      border-color: transparent;\n",
              "      border-right-color: var(--fill-color);\n",
              "    }\n",
              "    80% {\n",
              "      border-color: transparent;\n",
              "      border-right-color: var(--fill-color);\n",
              "      border-bottom-color: var(--fill-color);\n",
              "    }\n",
              "    90% {\n",
              "      border-color: transparent;\n",
              "      border-bottom-color: var(--fill-color);\n",
              "    }\n",
              "  }\n",
              "</style>\n",
              "\n",
              "  <script>\n",
              "    async function quickchart(key) {\n",
              "      const quickchartButtonEl =\n",
              "        document.querySelector('#' + key + ' button');\n",
              "      quickchartButtonEl.disabled = true;  // To prevent multiple clicks.\n",
              "      quickchartButtonEl.classList.add('colab-df-spinner');\n",
              "      try {\n",
              "        const charts = await google.colab.kernel.invokeFunction(\n",
              "            'suggestCharts', [key], {});\n",
              "      } catch (error) {\n",
              "        console.error('Error during call to suggestCharts:', error);\n",
              "      }\n",
              "      quickchartButtonEl.classList.remove('colab-df-spinner');\n",
              "      quickchartButtonEl.classList.add('colab-df-quickchart-complete');\n",
              "    }\n",
              "    (() => {\n",
              "      let quickchartButtonEl =\n",
              "        document.querySelector('#df-c9723543-e0d6-4ee6-93a5-7014e1ba7980 button');\n",
              "      quickchartButtonEl.style.display =\n",
              "        google.colab.kernel.accessAllowed ? 'block' : 'none';\n",
              "    })();\n",
              "  </script>\n",
              "</div>\n",
              "    </div>\n",
              "  </div>\n"
            ]
          },
          "metadata": {},
          "execution_count": 2
        }
      ]
    },
    {
      "cell_type": "markdown",
      "source": [
        "The feature matrix containing the 21 lifestyle predictors and the target vector containing the Diabetes Diagnosis are defined and stored."
      ],
      "metadata": {
        "id": "t1oHN-tdeSIL"
      }
    },
    {
      "cell_type": "code",
      "source": [
        "# defining feature matrix and target vector\n",
        "# features are defined\n",
        "X = diabetes_df.iloc[:, 1:]\n",
        "print(X)\n",
        "# target is defined\n",
        "y = diabetes_df['Diabetes_binary']\n",
        "print(y)\n"
      ],
      "metadata": {
        "colab": {
          "base_uri": "https://localhost:8080/"
        },
        "id": "kSOePPp3ydWR",
        "outputId": "eb47c7c0-0a0f-4be0-dbc2-e6666e11abdd"
      },
      "execution_count": 3,
      "outputs": [
        {
          "output_type": "stream",
          "name": "stdout",
          "text": [
            "       HighBP  HighChol  CholCheck   BMI  Smoker  Stroke  \\\n",
            "0         1.0       0.0        1.0  26.0     0.0     0.0   \n",
            "1         1.0       1.0        1.0  26.0     1.0     1.0   \n",
            "2         0.0       0.0        1.0  26.0     0.0     0.0   \n",
            "3         1.0       1.0        1.0  28.0     1.0     0.0   \n",
            "4         0.0       0.0        1.0  29.0     1.0     0.0   \n",
            "...       ...       ...        ...   ...     ...     ...   \n",
            "70687     0.0       1.0        1.0  37.0     0.0     0.0   \n",
            "70688     0.0       1.0        1.0  29.0     1.0     0.0   \n",
            "70689     1.0       1.0        1.0  25.0     0.0     0.0   \n",
            "70690     1.0       1.0        1.0  18.0     0.0     0.0   \n",
            "70691     1.0       1.0        1.0  25.0     0.0     0.0   \n",
            "\n",
            "       HeartDiseaseorAttack  PhysActivity  Fruits  Veggies  ...  \\\n",
            "0                       0.0           1.0     0.0      1.0  ...   \n",
            "1                       0.0           0.0     1.0      0.0  ...   \n",
            "2                       0.0           1.0     1.0      1.0  ...   \n",
            "3                       0.0           1.0     1.0      1.0  ...   \n",
            "4                       0.0           1.0     1.0      1.0  ...   \n",
            "...                     ...           ...     ...      ...  ...   \n",
            "70687                   0.0           0.0     0.0      1.0  ...   \n",
            "70688                   1.0           0.0     1.0      1.0  ...   \n",
            "70689                   1.0           0.0     1.0      0.0  ...   \n",
            "70690                   0.0           0.0     0.0      0.0  ...   \n",
            "70691                   1.0           1.0     1.0      0.0  ...   \n",
            "\n",
            "       AnyHealthcare  NoDocbcCost  GenHlth  MentHlth  PhysHlth  DiffWalk  Sex  \\\n",
            "0                1.0          0.0      3.0       5.0      30.0       0.0  1.0   \n",
            "1                1.0          0.0      3.0       0.0       0.0       0.0  1.0   \n",
            "2                1.0          0.0      1.0       0.0      10.0       0.0  1.0   \n",
            "3                1.0          0.0      3.0       0.0       3.0       0.0  1.0   \n",
            "4                1.0          0.0      2.0       0.0       0.0       0.0  0.0   \n",
            "...              ...          ...      ...       ...       ...       ...  ...   \n",
            "70687            1.0          0.0      4.0       0.0       0.0       0.0  0.0   \n",
            "70688            1.0          0.0      2.0       0.0       0.0       1.0  1.0   \n",
            "70689            1.0          0.0      5.0      15.0       0.0       1.0  0.0   \n",
            "70690            1.0          0.0      4.0       0.0       0.0       1.0  0.0   \n",
            "70691            1.0          0.0      2.0       0.0       0.0       0.0  0.0   \n",
            "\n",
            "        Age  Education  Income  \n",
            "0       4.0        6.0     8.0  \n",
            "1      12.0        6.0     8.0  \n",
            "2      13.0        6.0     8.0  \n",
            "3      11.0        6.0     8.0  \n",
            "4       8.0        5.0     8.0  \n",
            "...     ...        ...     ...  \n",
            "70687   6.0        4.0     1.0  \n",
            "70688  10.0        3.0     6.0  \n",
            "70689  13.0        6.0     4.0  \n",
            "70690  11.0        2.0     4.0  \n",
            "70691   9.0        6.0     2.0  \n",
            "\n",
            "[70692 rows x 21 columns]\n",
            "0        0.0\n",
            "1        0.0\n",
            "2        0.0\n",
            "3        0.0\n",
            "4        0.0\n",
            "        ... \n",
            "70687    1.0\n",
            "70688    1.0\n",
            "70689    1.0\n",
            "70690    1.0\n",
            "70691    1.0\n",
            "Name: Diabetes_binary, Length: 70692, dtype: float64\n"
          ]
        }
      ]
    },
    {
      "cell_type": "markdown",
      "source": [
        "## **Data Pre-processing**"
      ],
      "metadata": {
        "id": "vtO-bGkdqdbz"
      }
    },
    {
      "cell_type": "markdown",
      "source": [
        "In order to build our kNN model we need to first split the data into training and testing sets. The training set is used to fit the model and understand the relationship between the features and the target variable. The testing set is used to test the model's performance on previously unseen data. Here we are creating a 75/25 split with 75% of our data alloted to training set and the rest to the test set. A random state is also set to ensure that everytime the program is run we get the same results - this is helpful during model creation."
      ],
      "metadata": {
        "id": "zKs9LUgDerZY"
      }
    },
    {
      "cell_type": "code",
      "source": [
        "# Splitting data into training and test datasets\n",
        "# setting random_state in order to ensure reproducibility\n",
        "X_train, X_test, y_train, y_test = train_test_split(X, y, test_size=0.25, random_state = 42)"
      ],
      "metadata": {
        "id": "NVPLpENCykE1"
      },
      "execution_count": 4,
      "outputs": []
    },
    {
      "cell_type": "markdown",
      "source": [
        "Feature Normalization is a necessary component when building a kNN Classification model. This is because kNN calculates the distance between points, and when some features have larger values, this could lead to greater weightage of those features. As such, the features are normalized using the StandardScaler() in SciKit Learn. The Scaler is first fit to the training data following which it is applied to the testing data."
      ],
      "metadata": {
        "id": "3MB3gPe5gzfH"
      }
    },
    {
      "cell_type": "code",
      "source": [
        "# Standardize the features\n",
        "scaler = StandardScaler()\n",
        "X_train = scaler.fit_transform(X_train)\n",
        "X_test = scaler.transform(X_test)"
      ],
      "metadata": {
        "id": "aZ0P2v0nyqZR"
      },
      "execution_count": 5,
      "outputs": []
    },
    {
      "cell_type": "markdown",
      "source": [
        "##**Finding the Best 'k' value using k-fold Cross-Validation**"
      ],
      "metadata": {
        "id": "OfsxuyBbsdPI"
      }
    },
    {
      "cell_type": "markdown",
      "source": [
        "In order to find the k value that ensures the best perfomance of our kNN model we use K-fold Cross-Validation. I chose to use the cross validation on the training set only, as opposed to the entire data, in order to prevent the model from seeing the test data and generating a parameter that works for the entire data set which can in turn lead to overfitting.\n",
        "\n",
        "K fold Cross Validation of the training set implies that the training data is split into 'k' groups of which one is used as the test set. The model is trained on the rest of the groups and tested on the test set. This is repeated with each of the 'k' groups acting as the test set. The average of the accuracy scores across the 'k' times are taken.\n",
        "\n",
        "\n",
        "To find the best 'k' for our kNN model, cross validation is performed on a range of k values to determine which k value yields the best score."
      ],
      "metadata": {
        "id": "3f47rKnWid39"
      }
    },
    {
      "cell_type": "code",
      "source": [
        "# cross-validation to find best k\n",
        "from sklearn.model_selection import cross_val_score\n",
        "\n",
        "# generate range of values to test\n",
        "k_values = [i for i in range(1,31)]\n",
        "\n",
        "# create empty list to store scores\n",
        "scores = []\n",
        "\n",
        "# create KNN model for each k value\n",
        "# evaluate the model using Cross-Validation for 5 folds\n",
        "for k in k_values:\n",
        "    knn = KNeighborsClassifier(n_neighbors=k)\n",
        "    score = cross_val_score(knn, X_train, y_train, cv=5)\n",
        "    # append score to list\n",
        "    scores.append(np.mean(score))\n"
      ],
      "metadata": {
        "id": "NnR8511JyuG4"
      },
      "execution_count": 6,
      "outputs": []
    },
    {
      "cell_type": "code",
      "source": [
        "# plot the k values against the accuracy scores\n",
        "plt.plot(k_values, scores)\n",
        "plt.xlabel('Value of K for KNN')\n",
        "plt.ylabel('Cross-Validated Accuracy')\n",
        "plt.show()"
      ],
      "metadata": {
        "colab": {
          "base_uri": "https://localhost:8080/",
          "height": 449
        },
        "id": "pLvKcMrO83fo",
        "outputId": "879182b8-42b7-4b0a-845a-7657618aeaf4"
      },
      "execution_count": 7,
      "outputs": [
        {
          "output_type": "display_data",
          "data": {
            "text/plain": [
              "<Figure size 640x480 with 1 Axes>"
            ],
            "image/png": "[encoded data removed]"
          },
          "metadata": {}
        }
      ]
    },
    {
      "cell_type": "markdown",
      "source": [
        "Based on the plot we can see that the accuracy scores tend to show a general increase as the k value increases, indicating a larger k value is better for model performance."
      ],
      "metadata": {
        "id": "ZAqwRF748-ht"
      }
    },
    {
      "cell_type": "code",
      "source": [
        "# find the best k value based on best score\n",
        "best_index = np.argmax(scores)\n",
        "best_k = k_values[best_index]\n",
        "print(\"Best K-value based on Cross-Validation: \", best_k)"
      ],
      "metadata": {
        "colab": {
          "base_uri": "https://localhost:8080/"
        },
        "id": "4EMyMenEy6zi",
        "outputId": "6ff65bce-d1f1-44f9-b611-0205a518d972"
      },
      "execution_count": 8,
      "outputs": [
        {
          "output_type": "stream",
          "name": "stdout",
          "text": [
            "Best K-value based on Cross-Validation:  29\n"
          ]
        }
      ]
    },
    {
      "cell_type": "markdown",
      "source": [
        "The best k-value was found to be 29 implying that our kNN model looks at the 29 nearest neighbors in order to classify a new instance - in our case, to classify it as diabetic or non-diabetic."
      ],
      "metadata": {
        "id": "WUF2i3_zruf1"
      }
    },
    {
      "cell_type": "markdown",
      "source": [
        "##**kNN Classification Model**\n",
        "\n",
        "The kNN Classification model was built using the KNeighborsClassifier from SciKit Learn and the best 'k' value found from Cross-Validation. The model was then fit to the training data. The trained model was then used to make predictions based on the test data."
      ],
      "metadata": {
        "id": "P_VBkTOqsbwG"
      }
    },
    {
      "cell_type": "code",
      "source": [
        "# create and fit model with best k value\n",
        "knn = KNeighborsClassifier(n_neighbors=best_k)\n",
        "knn.fit(X_train, y_train)"
      ],
      "metadata": {
        "colab": {
          "base_uri": "https://localhost:8080/",
          "height": 75
        },
        "id": "AsCk_JGty8hx",
        "outputId": "fccd3fb5-a2e7-4351-fdc7-6f45a2fd75e9"
      },
      "execution_count": 9,
      "outputs": [
        {
          "output_type": "execute_result",
          "data": {
            "text/plain": [
              "KNeighborsClassifier(n_neighbors=29)"
            ],
            "text/html": [
              "<style>#sk-container-id-1 {color: black;background-color: white;}#sk-container-id-1 pre{padding: 0;}#sk-container-id-1 div.sk-toggleable {background-color: white;}#sk-container-id-1 label.sk-toggleable__label {cursor: pointer;display: block;width: 100%;margin-bottom: 0;padding: 0.3em;box-sizing: border-box;text-align: center;}#sk-container-id-1 label.sk-toggleable__label-arrow:before {content: \"▸\";float: left;margin-right: 0.25em;color: #696969;}#sk-container-id-1 label.sk-toggleable__label-arrow:hover:before {color: black;}#sk-container-id-1 div.sk-estimator:hover label.sk-toggleable__label-arrow:before {color: black;}#sk-container-id-1 div.sk-toggleable__content {max-height: 0;max-width: 0;overflow: hidden;text-align: left;background-color: #f0f8ff;}#sk-container-id-1 div.sk-toggleable__content pre {margin: 0.2em;color: black;border-radius: 0.25em;background-color: #f0f8ff;}#sk-container-id-1 input.sk-toggleable__control:checked~div.sk-toggleable__content {max-height: 200px;max-width: 100%;overflow: auto;}#sk-container-id-1 input.sk-toggleable__control:checked~label.sk-toggleable__label-arrow:before {content: \"▾\";}#sk-container-id-1 div.sk-estimator input.sk-toggleable__control:checked~label.sk-toggleable__label {background-color: #d4ebff;}#sk-container-id-1 div.sk-label input.sk-toggleable__control:checked~label.sk-toggleable__label {background-color: #d4ebff;}#sk-container-id-1 input.sk-hidden--visually {border: 0;clip: rect(1px 1px 1px 1px);clip: rect(1px, 1px, 1px, 1px);height: 1px;margin: -1px;overflow: hidden;padding: 0;position: absolute;width: 1px;}#sk-container-id-1 div.sk-estimator {font-family: monospace;background-color: #f0f8ff;border: 1px dotted black;border-radius: 0.25em;box-sizing: border-box;margin-bottom: 0.5em;}#sk-container-id-1 div.sk-estimator:hover {background-color: #d4ebff;}#sk-container-id-1 div.sk-parallel-item::after {content: \"\";width: 100%;border-bottom: 1px solid gray;flex-grow: 1;}#sk-container-id-1 div.sk-label:hover label.sk-toggleable__label {background-color: #d4ebff;}#sk-container-id-1 div.sk-serial::before {content: \"\";position: absolute;border-left: 1px solid gray;box-sizing: border-box;top: 0;bottom: 0;left: 50%;z-index: 0;}#sk-container-id-1 div.sk-serial {display: flex;flex-direction: column;align-items: center;background-color: white;padding-right: 0.2em;padding-left: 0.2em;position: relative;}#sk-container-id-1 div.sk-item {position: relative;z-index: 1;}#sk-container-id-1 div.sk-parallel {display: flex;align-items: stretch;justify-content: center;background-color: white;position: relative;}#sk-container-id-1 div.sk-item::before, #sk-container-id-1 div.sk-parallel-item::before {content: \"\";position: absolute;border-left: 1px solid gray;box-sizing: border-box;top: 0;bottom: 0;left: 50%;z-index: -1;}#sk-container-id-1 div.sk-parallel-item {display: flex;flex-direction: column;z-index: 1;position: relative;background-color: white;}#sk-container-id-1 div.sk-parallel-item:first-child::after {align-self: flex-end;width: 50%;}#sk-container-id-1 div.sk-parallel-item:last-child::after {align-self: flex-start;width: 50%;}#sk-container-id-1 div.sk-parallel-item:only-child::after {width: 0;}#sk-container-id-1 div.sk-dashed-wrapped {border: 1px dashed gray;margin: 0 0.4em 0.5em 0.4em;box-sizing: border-box;padding-bottom: 0.4em;background-color: white;}#sk-container-id-1 div.sk-label label {font-family: monospace;font-weight: bold;display: inline-block;line-height: 1.2em;}#sk-container-id-1 div.sk-label-container {text-align: center;}#sk-container-id-1 div.sk-container {/* jupyter's `normalize.less` sets `[hidden] { display: none; }` but bootstrap.min.css set `[hidden] { display: none !important; }` so we also need the `!important` here to be able to override the default hidden behavior on the sphinx rendered scikit-learn.org. See: https://github.com/scikit-learn/scikit-learn/issues/21755 */display: inline-block !important;position: relative;}#sk-container-id-1 div.sk-text-repr-fallback {display: none;}</style><div id=\"sk-container-id-1\" class=\"sk-top-container\"><div class=\"sk-text-repr-fallback\"><pre>KNeighborsClassifier(n_neighbors=29)</pre><b>In a Jupyter environment, please rerun this cell to show the HTML representation or trust the notebook. <br />On GitHub, the HTML representation is unable to render, please try loading this page with nbviewer.org.</b></div><div class=\"sk-container\" hidden><div class=\"sk-item\"><div class=\"sk-estimator sk-toggleable\"><input class=\"sk-toggleable__control sk-hidden--visually\" id=\"sk-estimator-id-1\" type=\"checkbox\" checked><label for=\"sk-estimator-id-1\" class=\"sk-toggleable__label sk-toggleable__label-arrow\">KNeighborsClassifier</label><div class=\"sk-toggleable__content\"><pre>KNeighborsClassifier(n_neighbors=29)</pre></div></div></div></div></div>"
            ]
          },
          "metadata": {},
          "execution_count": 9
        }
      ]
    },
    {
      "cell_type": "code",
      "source": [
        "# predict y values using KNN model\n",
        "y_pred = knn.predict(X_test)"
      ],
      "metadata": {
        "id": "GpHVWqxRy_8b"
      },
      "execution_count": 10,
      "outputs": []
    },
    {
      "cell_type": "markdown",
      "source": [
        "##**Evaluation of the Model**\n",
        "\n",
        "Several evaluation metrics were used. Accuracy was calculated - both for the model on the training data as well as the test data. Precision, Recall, and F1 Score were also measured.\n",
        "\n",
        "A confusion matrix was also generated in order to better visualize the model's performance."
      ],
      "metadata": {
        "id": "1qIGkNyptp11"
      }
    },
    {
      "cell_type": "code",
      "source": [
        "# Evaluation metrics\n",
        "\n",
        "# train accuracy\n",
        "train_accuracy = metrics.accuracy_score(y_train, knn.predict(X_train))\n",
        "print(\"Train Accuracy: \", train_accuracy)\n",
        "\n",
        "# test accuarcy\n",
        "test_accuracy = metrics.accuracy_score(y_test, y_pred)\n",
        "print(\"Test Accuracy: \", test_accuracy)\n",
        "\n",
        "# print blank line\n",
        "print()\n",
        "\n",
        "# generating precision, recall and f1 score measures\n",
        "precision = metrics.precision_score(y_test, y_pred)\n",
        "recall = metrics.recall_score(y_test, y_pred)\n",
        "f1_score = metrics.f1_score(y_test, y_pred)\n",
        "\n",
        "# print the evaluation metric measures\n",
        "print(\"Precision: \", precision)\n",
        "print(\"Recall: \", recall)\n",
        "print(\"F1 Score: \", f1_score)\n",
        "\n",
        "# print blank line\n",
        "print()\n",
        "\n",
        "# generate a classification report to compare the evaluation metrics for each target class\n",
        "report = metrics.classification_report(y_test, y_pred)\n",
        "print(\"Classification Report: \\n\", report)"
      ],
      "metadata": {
        "colab": {
          "base_uri": "https://localhost:8080/"
        },
        "id": "4hVzab8azIHR",
        "outputId": "4bc68c44-423e-4b23-f37c-57af6d81c2ba"
      },
      "execution_count": 11,
      "outputs": [
        {
          "output_type": "stream",
          "name": "stdout",
          "text": [
            "Train Accuracy:  0.754804881268979\n",
            "Test Accuracy:  0.7372828608612007\n",
            "\n",
            "Precision:  0.7168525402726146\n",
            "Recall:  0.7850277055297976\n",
            "F1 Score:  0.7493927781076267\n",
            "\n",
            "Classification Report: \n",
            "               precision    recall  f1-score   support\n",
            "\n",
            "         0.0       0.76      0.69      0.72      8830\n",
            "         1.0       0.72      0.79      0.75      8843\n",
            "\n",
            "    accuracy                           0.74     17673\n",
            "   macro avg       0.74      0.74      0.74     17673\n",
            "weighted avg       0.74      0.74      0.74     17673\n",
            "\n"
          ]
        }
      ]
    },
    {
      "cell_type": "markdown",
      "source": [
        "Accuracy measures the ratio of correct predictions to all predictions. The greater the accuracy the better the model is at predicting the correct outcome. The train and test accuracy were 75.48% and 73.73% respectively. This indicates that the model correctly classified instances in the training set 75.48% of the time and 73.73% of the time in the testing set. The marginal difference between the training and testing accuracies indicates that the model is neither overfitting or underfitting the training data and is able to generalize well to new and unseen test data.\n",
        "\n",
        "Precision is the ratio of true positives to the total predicted positives. Precision measures to 71.69% indicated that when the model predicts positives (in our case diabetic patients) it predicts correctly 71.68% of the the time.\n",
        "\n",
        "Recall is the ratio of true positives to the total actual positives. Recall measures to 78.50%, indicating that the model identifies 78.50% of actual positive (diabetic) cases.\n",
        "\n",
        "F1 Score combines precision and recall into a single value to provide a balanced measure of a classification model's performance. It considers both false positives and false negatives. The F1 score for the kNN model comes out to be 74.94% indicating a good balance between precision and recall.\n",
        "\n",
        "\n",
        "The classification report provides the Precision, Recall and F1 score for each class (0: non-diabetic; 1: diabetic) as well as the macro and weighted averages across both classes. The overall accuracy across both target classes is also provided. The overall accuracy, precision, recall and F1 score are all approximately 74%.\n"
      ],
      "metadata": {
        "id": "QbmMTC5qu2zM"
      }
    },
    {
      "cell_type": "code",
      "source": [
        "# visualizing confusion matrix\n",
        "metrics.ConfusionMatrixDisplay.from_predictions(y_test, y_pred)\n",
        "plt.show()\n"
      ],
      "metadata": {
        "colab": {
          "base_uri": "https://localhost:8080/",
          "height": 449
        },
        "id": "xxKUwiXSzKgO",
        "outputId": "eb40597a-5d5c-47e1-de16-04dd5e65a101"
      },
      "execution_count": 12,
      "outputs": [
        {
          "output_type": "display_data",
          "data": {
            "text/plain": [
              "<Figure size 640x480 with 2 Axes>"
            ],
            "image/png": "[encoded data removed]"
          },
          "metadata": {}
        }
      ]
    },
    {
      "cell_type": "markdown",
      "source": [
        "A confusion matrix was generated to visualize the model's performance, showing us the model's predictions vs the actual class. A confusion matrix shows the number of True Positives (correctly predicts positive class), True Negatives (correctly predicts negative class), False Positives (predicts positive class when actual class is negative) and False Negatives (predicts negative class when actual class is positive).\n",
        "\n",
        "Based on the confusion matrix, the model had 6088 True Negatives, 6942 True Positives, 2742 False Positives and 1901 False Negatives."
      ],
      "metadata": {
        "id": "t78-ptB7XIX7"
      }
    },
    {
      "cell_type": "markdown",
      "source": [
        "##**Hyperparameter Tuning using GridSearch**\n",
        "\n",
        "GridSearch is a method of performing hyperparameter tuning to find the optimal parameters for a given model. GridSearchCV from SciKit Learn was used. A range of hyperparameters to test is defined. A grid of those hyperparameters is created and the model is tested across all combinations of defined hyperparameters. In the case of a kNN model, the main hyperparamater under consideration is 'n_neighbors'. As such Grid Search was conducted to determine the best 'k' value.\n",
        "\n",
        "Besides 'n_neighbors' there are other hyperparameters such as 'weights', 'metric', 'p', 'algorithm', 'leaf_size' and 'priors'.  However, to reduce computational expense, I chose to use only 'weights' (in addition to 'n_neighbors').'weights' looks at the weight of the neighbors when making predictions it can either be set to uniform (all neighbors are weighed uniformly) or distance (where closer neighbors are weighed more heavily)."
      ],
      "metadata": {
        "id": "wj0ngpAi5apV"
      }
    },
    {
      "cell_type": "code",
      "source": [
        "# hyperparameter tuning with GridSearch\n",
        "# defining n_neighbors and weights parameters\n",
        "param_grid = {'n_neighbors': k_values, 'weights':['uniform', 'distance']}\n",
        "\n",
        "knn2 = KNeighborsClassifier()\n",
        "\n",
        "knn_grid_search = GridSearchCV(knn2, param_grid, cv=5)\n",
        "knn_grid_search.fit(X_train, y_train)\n"
      ],
      "metadata": {
        "colab": {
          "base_uri": "https://localhost:8080/",
          "height": 118
        },
        "id": "wxNk0Rrf_STB",
        "outputId": "2f0a7e1c-9ab1-4b7f-a253-896be72cb341"
      },
      "execution_count": 13,
      "outputs": [
        {
          "output_type": "execute_result",
          "data": {
            "text/plain": [
              "GridSearchCV(cv=5, estimator=KNeighborsClassifier(),\n",
              "             param_grid={'n_neighbors': [1, 2, 3, 4, 5, 6, 7, 8, 9, 10, 11, 12,\n",
              "                                         13, 14, 15, 16, 17, 18, 19, 20, 21, 22,\n",
              "                                         23, 24, 25, 26, 27, 28, 29, 30],\n",
              "                         'weights': ['uniform', 'distance']})"
            ],
            "text/html": [
              "<style>#sk-container-id-2 {color: black;background-color: white;}#sk-container-id-2 pre{padding: 0;}#sk-container-id-2 div.sk-toggleable {background-color: white;}#sk-container-id-2 label.sk-toggleable__label {cursor: pointer;display: block;width: 100%;margin-bottom: 0;padding: 0.3em;box-sizing: border-box;text-align: center;}#sk-container-id-2 label.sk-toggleable__label-arrow:before {content: \"▸\";float: left;margin-right: 0.25em;color: #696969;}#sk-container-id-2 label.sk-toggleable__label-arrow:hover:before {color: black;}#sk-container-id-2 div.sk-estimator:hover label.sk-toggleable__label-arrow:before {color: black;}#sk-container-id-2 div.sk-toggleable__content {max-height: 0;max-width: 0;overflow: hidden;text-align: left;background-color: #f0f8ff;}#sk-container-id-2 div.sk-toggleable__content pre {margin: 0.2em;color: black;border-radius: 0.25em;background-color: #f0f8ff;}#sk-container-id-2 input.sk-toggleable__control:checked~div.sk-toggleable__content {max-height: 200px;max-width: 100%;overflow: auto;}#sk-container-id-2 input.sk-toggleable__control:checked~label.sk-toggleable__label-arrow:before {content: \"▾\";}#sk-container-id-2 div.sk-estimator input.sk-toggleable__control:checked~label.sk-toggleable__label {background-color: #d4ebff;}#sk-container-id-2 div.sk-label input.sk-toggleable__control:checked~label.sk-toggleable__label {background-color: #d4ebff;}#sk-container-id-2 input.sk-hidden--visually {border: 0;clip: rect(1px 1px 1px 1px);clip: rect(1px, 1px, 1px, 1px);height: 1px;margin: -1px;overflow: hidden;padding: 0;position: absolute;width: 1px;}#sk-container-id-2 div.sk-estimator {font-family: monospace;background-color: #f0f8ff;border: 1px dotted black;border-radius: 0.25em;box-sizing: border-box;margin-bottom: 0.5em;}#sk-container-id-2 div.sk-estimator:hover {background-color: #d4ebff;}#sk-container-id-2 div.sk-parallel-item::after {content: \"\";width: 100%;border-bottom: 1px solid gray;flex-grow: 1;}#sk-container-id-2 div.sk-label:hover label.sk-toggleable__label {background-color: #d4ebff;}#sk-container-id-2 div.sk-serial::before {content: \"\";position: absolute;border-left: 1px solid gray;box-sizing: border-box;top: 0;bottom: 0;left: 50%;z-index: 0;}#sk-container-id-2 div.sk-serial {display: flex;flex-direction: column;align-items: center;background-color: white;padding-right: 0.2em;padding-left: 0.2em;position: relative;}#sk-container-id-2 div.sk-item {position: relative;z-index: 1;}#sk-container-id-2 div.sk-parallel {display: flex;align-items: stretch;justify-content: center;background-color: white;position: relative;}#sk-container-id-2 div.sk-item::before, #sk-container-id-2 div.sk-parallel-item::before {content: \"\";position: absolute;border-left: 1px solid gray;box-sizing: border-box;top: 0;bottom: 0;left: 50%;z-index: -1;}#sk-container-id-2 div.sk-parallel-item {display: flex;flex-direction: column;z-index: 1;position: relative;background-color: white;}#sk-container-id-2 div.sk-parallel-item:first-child::after {align-self: flex-end;width: 50%;}#sk-container-id-2 div.sk-parallel-item:last-child::after {align-self: flex-start;width: 50%;}#sk-container-id-2 div.sk-parallel-item:only-child::after {width: 0;}#sk-container-id-2 div.sk-dashed-wrapped {border: 1px dashed gray;margin: 0 0.4em 0.5em 0.4em;box-sizing: border-box;padding-bottom: 0.4em;background-color: white;}#sk-container-id-2 div.sk-label label {font-family: monospace;font-weight: bold;display: inline-block;line-height: 1.2em;}#sk-container-id-2 div.sk-label-container {text-align: center;}#sk-container-id-2 div.sk-container {/* jupyter's `normalize.less` sets `[hidden] { display: none; }` but bootstrap.min.css set `[hidden] { display: none !important; }` so we also need the `!important` here to be able to override the default hidden behavior on the sphinx rendered scikit-learn.org. See: https://github.com/scikit-learn/scikit-learn/issues/21755 */display: inline-block !important;position: relative;}#sk-container-id-2 div.sk-text-repr-fallback {display: none;}</style><div id=\"sk-container-id-2\" class=\"sk-top-container\"><div class=\"sk-text-repr-fallback\"><pre>GridSearchCV(cv=5, estimator=KNeighborsClassifier(),\n",
              "             param_grid={&#x27;n_neighbors&#x27;: [1, 2, 3, 4, 5, 6, 7, 8, 9, 10, 11, 12,\n",
              "                                         13, 14, 15, 16, 17, 18, 19, 20, 21, 22,\n",
              "                                         23, 24, 25, 26, 27, 28, 29, 30],\n",
              "                         &#x27;weights&#x27;: [&#x27;uniform&#x27;, &#x27;distance&#x27;]})</pre><b>In a Jupyter environment, please rerun this cell to show the HTML representation or trust the notebook. <br />On GitHub, the HTML representation is unable to render, please try loading this page with nbviewer.org.</b></div><div class=\"sk-container\" hidden><div class=\"sk-item sk-dashed-wrapped\"><div class=\"sk-label-container\"><div class=\"sk-label sk-toggleable\"><input class=\"sk-toggleable__control sk-hidden--visually\" id=\"sk-estimator-id-2\" type=\"checkbox\" ><label for=\"sk-estimator-id-2\" class=\"sk-toggleable__label sk-toggleable__label-arrow\">GridSearchCV</label><div class=\"sk-toggleable__content\"><pre>GridSearchCV(cv=5, estimator=KNeighborsClassifier(),\n",
              "             param_grid={&#x27;n_neighbors&#x27;: [1, 2, 3, 4, 5, 6, 7, 8, 9, 10, 11, 12,\n",
              "                                         13, 14, 15, 16, 17, 18, 19, 20, 21, 22,\n",
              "                                         23, 24, 25, 26, 27, 28, 29, 30],\n",
              "                         &#x27;weights&#x27;: [&#x27;uniform&#x27;, &#x27;distance&#x27;]})</pre></div></div></div><div class=\"sk-parallel\"><div class=\"sk-parallel-item\"><div class=\"sk-item\"><div class=\"sk-label-container\"><div class=\"sk-label sk-toggleable\"><input class=\"sk-toggleable__control sk-hidden--visually\" id=\"sk-estimator-id-3\" type=\"checkbox\" ><label for=\"sk-estimator-id-3\" class=\"sk-toggleable__label sk-toggleable__label-arrow\">estimator: KNeighborsClassifier</label><div class=\"sk-toggleable__content\"><pre>KNeighborsClassifier()</pre></div></div></div><div class=\"sk-serial\"><div class=\"sk-item\"><div class=\"sk-estimator sk-toggleable\"><input class=\"sk-toggleable__control sk-hidden--visually\" id=\"sk-estimator-id-4\" type=\"checkbox\" ><label for=\"sk-estimator-id-4\" class=\"sk-toggleable__label sk-toggleable__label-arrow\">KNeighborsClassifier</label><div class=\"sk-toggleable__content\"><pre>KNeighborsClassifier()</pre></div></div></div></div></div></div></div></div></div></div>"
            ]
          },
          "metadata": {},
          "execution_count": 13
        }
      ]
    },
    {
      "cell_type": "code",
      "source": [
        "# identifying the best parameters\n",
        "best_params = knn_grid_search.best_params_\n",
        "best_k = best_params['n_neighbors']\n",
        "best_weights = best_params['weights']\n",
        "best_score = knn_grid_search.best_score_\n",
        "\n",
        "# displaying the best parameters\n",
        "print(\"Best 'k' value: \", best_k)\n",
        "print(\"Best weights value: \", best_weights)\n",
        "print(\"Best score value: \", best_score)"
      ],
      "metadata": {
        "colab": {
          "base_uri": "https://localhost:8080/"
        },
        "id": "MfWilzYygFb5",
        "outputId": "54a2aedb-0c61-4e4e-965e-96b19844b097"
      },
      "execution_count": 14,
      "outputs": [
        {
          "output_type": "stream",
          "name": "stdout",
          "text": [
            "Best 'k' value:  29\n",
            "Best weights value:  uniform\n",
            "Best score value:  0.7384145477001253\n"
          ]
        }
      ]
    },
    {
      "cell_type": "markdown",
      "source": [
        "The Best 'k' value found from GridSearch matches the k-value found from Cross-Validation thus, indicating that our hyperparameters are optimized. The best weight was determined to be uniform i.e. all neighbors are equally weighted. Since uniform is the default value and the best k value is same as yielded from cross validation, it implies that our model is optimized."
      ],
      "metadata": {
        "id": "dmPVFEM0kO4-"
      }
    },
    {
      "cell_type": "markdown",
      "source": [
        "##**kNN Classification Model based on Hypertuned Parameters**\n",
        "\n",
        "Although our GridSearch Results indicate that our original model's parameters were already optimized, in order to maintain the typical workflow of building and evaluating a machine learning model, I have created an 'updated' model with the defined hyperparameters from GridSearch.\n",
        "\n",
        "The updated kNN Classification model was built using the KNeighborsClassifier from SciKit Learn and the tuned 'k' value and 'weights' value found from Grid Search. The model was then fit to the training data. The trained model was then used to make predictions based on the test data."
      ],
      "metadata": {
        "id": "lWbnP_xf5hjO"
      }
    },
    {
      "cell_type": "code",
      "source": [
        "# creating the KNN model based on tuned hyperparameter\n",
        "knn3 = KNeighborsClassifier(n_neighbors=best_k, weights=best_weights)\n",
        "# fitting the updated model\n",
        "knn3.fit(X_train, y_train)"
      ],
      "metadata": {
        "colab": {
          "base_uri": "https://localhost:8080/",
          "height": 75
        },
        "id": "MQ5gioIZe8H9",
        "outputId": "5f7041ed-e31a-43f8-ccd5-1628413938d3"
      },
      "execution_count": 15,
      "outputs": [
        {
          "output_type": "execute_result",
          "data": {
            "text/plain": [
              "KNeighborsClassifier(n_neighbors=29)"
            ],
            "text/html": [
              "<style>#sk-container-id-3 {color: black;background-color: white;}#sk-container-id-3 pre{padding: 0;}#sk-container-id-3 div.sk-toggleable {background-color: white;}#sk-container-id-3 label.sk-toggleable__label {cursor: pointer;display: block;width: 100%;margin-bottom: 0;padding: 0.3em;box-sizing: border-box;text-align: center;}#sk-container-id-3 label.sk-toggleable__label-arrow:before {content: \"▸\";float: left;margin-right: 0.25em;color: #696969;}#sk-container-id-3 label.sk-toggleable__label-arrow:hover:before {color: black;}#sk-container-id-3 div.sk-estimator:hover label.sk-toggleable__label-arrow:before {color: black;}#sk-container-id-3 div.sk-toggleable__content {max-height: 0;max-width: 0;overflow: hidden;text-align: left;background-color: #f0f8ff;}#sk-container-id-3 div.sk-toggleable__content pre {margin: 0.2em;color: black;border-radius: 0.25em;background-color: #f0f8ff;}#sk-container-id-3 input.sk-toggleable__control:checked~div.sk-toggleable__content {max-height: 200px;max-width: 100%;overflow: auto;}#sk-container-id-3 input.sk-toggleable__control:checked~label.sk-toggleable__label-arrow:before {content: \"▾\";}#sk-container-id-3 div.sk-estimator input.sk-toggleable__control:checked~label.sk-toggleable__label {background-color: #d4ebff;}#sk-container-id-3 div.sk-label input.sk-toggleable__control:checked~label.sk-toggleable__label {background-color: #d4ebff;}#sk-container-id-3 input.sk-hidden--visually {border: 0;clip: rect(1px 1px 1px 1px);clip: rect(1px, 1px, 1px, 1px);height: 1px;margin: -1px;overflow: hidden;padding: 0;position: absolute;width: 1px;}#sk-container-id-3 div.sk-estimator {font-family: monospace;background-color: #f0f8ff;border: 1px dotted black;border-radius: 0.25em;box-sizing: border-box;margin-bottom: 0.5em;}#sk-container-id-3 div.sk-estimator:hover {background-color: #d4ebff;}#sk-container-id-3 div.sk-parallel-item::after {content: \"\";width: 100%;border-bottom: 1px solid gray;flex-grow: 1;}#sk-container-id-3 div.sk-label:hover label.sk-toggleable__label {background-color: #d4ebff;}#sk-container-id-3 div.sk-serial::before {content: \"\";position: absolute;border-left: 1px solid gray;box-sizing: border-box;top: 0;bottom: 0;left: 50%;z-index: 0;}#sk-container-id-3 div.sk-serial {display: flex;flex-direction: column;align-items: center;background-color: white;padding-right: 0.2em;padding-left: 0.2em;position: relative;}#sk-container-id-3 div.sk-item {position: relative;z-index: 1;}#sk-container-id-3 div.sk-parallel {display: flex;align-items: stretch;justify-content: center;background-color: white;position: relative;}#sk-container-id-3 div.sk-item::before, #sk-container-id-3 div.sk-parallel-item::before {content: \"\";position: absolute;border-left: 1px solid gray;box-sizing: border-box;top: 0;bottom: 0;left: 50%;z-index: -1;}#sk-container-id-3 div.sk-parallel-item {display: flex;flex-direction: column;z-index: 1;position: relative;background-color: white;}#sk-container-id-3 div.sk-parallel-item:first-child::after {align-self: flex-end;width: 50%;}#sk-container-id-3 div.sk-parallel-item:last-child::after {align-self: flex-start;width: 50%;}#sk-container-id-3 div.sk-parallel-item:only-child::after {width: 0;}#sk-container-id-3 div.sk-dashed-wrapped {border: 1px dashed gray;margin: 0 0.4em 0.5em 0.4em;box-sizing: border-box;padding-bottom: 0.4em;background-color: white;}#sk-container-id-3 div.sk-label label {font-family: monospace;font-weight: bold;display: inline-block;line-height: 1.2em;}#sk-container-id-3 div.sk-label-container {text-align: center;}#sk-container-id-3 div.sk-container {/* jupyter's `normalize.less` sets `[hidden] { display: none; }` but bootstrap.min.css set `[hidden] { display: none !important; }` so we also need the `!important` here to be able to override the default hidden behavior on the sphinx rendered scikit-learn.org. See: https://github.com/scikit-learn/scikit-learn/issues/21755 */display: inline-block !important;position: relative;}#sk-container-id-3 div.sk-text-repr-fallback {display: none;}</style><div id=\"sk-container-id-3\" class=\"sk-top-container\"><div class=\"sk-text-repr-fallback\"><pre>KNeighborsClassifier(n_neighbors=29)</pre><b>In a Jupyter environment, please rerun this cell to show the HTML representation or trust the notebook. <br />On GitHub, the HTML representation is unable to render, please try loading this page with nbviewer.org.</b></div><div class=\"sk-container\" hidden><div class=\"sk-item\"><div class=\"sk-estimator sk-toggleable\"><input class=\"sk-toggleable__control sk-hidden--visually\" id=\"sk-estimator-id-5\" type=\"checkbox\" checked><label for=\"sk-estimator-id-5\" class=\"sk-toggleable__label sk-toggleable__label-arrow\">KNeighborsClassifier</label><div class=\"sk-toggleable__content\"><pre>KNeighborsClassifier(n_neighbors=29)</pre></div></div></div></div></div>"
            ]
          },
          "metadata": {},
          "execution_count": 15
        }
      ]
    },
    {
      "cell_type": "code",
      "source": [
        "# predicting y values\n",
        "y_pred2 = knn3.predict(X_test)"
      ],
      "metadata": {
        "id": "oJVvloK3e-XC"
      },
      "execution_count": 16,
      "outputs": []
    },
    {
      "cell_type": "markdown",
      "source": [
        "##**Evaluating the Updated Model**\n",
        "\n",
        "Since our model is technically the same, the evaluation metrics will yield the same results. However, to maintain the typical workflow I still have carried out evaulation metrics on the 'updated' model."
      ],
      "metadata": {
        "id": "cEse4GLY5pcZ"
      }
    },
    {
      "cell_type": "code",
      "source": [
        "# Evaluation for updated model\n",
        "\n",
        "# train accuracy\n",
        "train_accuracy = metrics.accuracy_score(y_train, knn3.predict(X_train))\n",
        "print(\"Train Accuracy: \", train_accuracy)\n",
        "\n",
        "# test accuarcy\n",
        "test_accuracy = metrics.accuracy_score(y_test, y_pred2)\n",
        "print(\"Test Accuracy: \", test_accuracy)\n",
        "\n",
        "# print blank line\n",
        "print()\n",
        "\n",
        "precision = metrics.precision_score(y_test, y_pred2)\n",
        "recall = metrics.recall_score(y_test, y_pred2)\n",
        "f1_score = metrics.f1_score(y_test, y_pred2)\n",
        "\n",
        "print('Precision: ', precision)\n",
        "print('Recall: ', recall)\n",
        "print('F1 Score: ', f1_score)\n",
        "\n",
        "# print blank line\n",
        "print()\n",
        "\n",
        "# generating classification report to compare the evaluation metrics for each class\n",
        "report = metrics.classification_report(y_test, y_pred2)\n",
        "print('Classification Report: \\n', report)"
      ],
      "metadata": {
        "colab": {
          "base_uri": "https://localhost:8080/"
        },
        "id": "vHXRzP9fzmPv",
        "outputId": "97e8e95a-75db-42c4-c1a3-66ff43e9838f"
      },
      "execution_count": 17,
      "outputs": [
        {
          "output_type": "stream",
          "name": "stdout",
          "text": [
            "Train Accuracy:  0.754804881268979\n",
            "Test Accuracy:  0.7372828608612007\n",
            "\n",
            "Precision:  0.7168525402726146\n",
            "Recall:  0.7850277055297976\n",
            "F1 Score:  0.7493927781076267\n",
            "\n",
            "Classification Report: \n",
            "               precision    recall  f1-score   support\n",
            "\n",
            "         0.0       0.76      0.69      0.72      8830\n",
            "         1.0       0.72      0.79      0.75      8843\n",
            "\n",
            "    accuracy                           0.74     17673\n",
            "   macro avg       0.74      0.74      0.74     17673\n",
            "weighted avg       0.74      0.74      0.74     17673\n",
            "\n"
          ]
        }
      ]
    },
    {
      "cell_type": "markdown",
      "source": [
        "The Accuracy, Precision, Recall and F1 Measures remained the same after hypertuning."
      ],
      "metadata": {
        "id": "r16L3g8U7Rhv"
      }
    },
    {
      "cell_type": "markdown",
      "source": [
        "##**ROC Curve**\n",
        "\n",
        "A Reciever Operating Characteristic Curve is a graphical representation of the performance of a binary classifier model at varying thresholds values. It is a plot of the True Positive Rate (Recall) i.e proportion of actual positive cases correctly identified by the model against the False Positive Rate (Specificity) i.e. the proportion of actual negative cases that are incorrectly identified as positive by the model, at varying thresholds. The ROC Curve provides a measure to visualize the trade-off between sensitivity and specificity. A perfect classifier would have a curve that passes through the top left corner of the plot, indicating 100% recall and 0% specificity.\n",
        "\n",
        "An ROC Curve was plotted for the model's performance on both the training and testing data. The Area Under the Curve (AUC) was also calculated for the ROC Curve. AUC is a summary metric - the higher the value the better the model performance.\n"
      ],
      "metadata": {
        "id": "Kg-DNjRW5vzS"
      }
    },
    {
      "cell_type": "code",
      "source": [
        "# plotting the ROC curve for the hypertuned kNN model\n",
        "from sklearn.metrics import roc_curve\n",
        "\n",
        "# training data\n",
        "# generating probabilities for the training data\n",
        "y_train_pred_proba = knn3.predict_proba(X_train)[:, 1]\n",
        "# Creating the ROC Curve\n",
        "fpr_train, tpr_train, thresholds_train = roc_curve(y_train, y_train_pred_proba)\n",
        "# calculating the AUC value for the training curve\n",
        "roc_auc_train = metrics.roc_auc_score(y_train, y_train_pred_proba)\n",
        "\n",
        "# testing data\n",
        "# generating probabilities for the training data\n",
        "y_test_pred_proba = knn3.predict_proba(X_test)[:, 1]\n",
        "# creating the ROC Curve\n",
        "fpr_test, tpr_test, thresholds_test = roc_curve(y_test, y_test_pred_proba)\n",
        "# calculating the AUC value for the testing curve\n",
        "roc_auc_test = metrics.roc_auc_score(y_test, y_test_pred_proba)\n",
        "\n",
        "# plotting the ROC curves for training and testing data\n",
        "# displaying the AUC values for the training and testing ROC curves\n",
        "plt.plot(fpr_train, tpr_train, color='blue', label=f'Train ROC Curve (AUC = {roc_auc_train:.2f})')\n",
        "plt.plot(fpr_test, tpr_test, color='darkorange', label= f'Test ROC Curve (AUC = {roc_auc_test:.2f})')\n",
        "\n",
        "# plotting a random classifier\n",
        "plt.plot([0, 1], [0, 1], 'k--')\n",
        "\n",
        "# adding labels ot the plot\n",
        "plt.xlabel('False Positive Rate (FPR)')\n",
        "plt.ylabel('True Positive Rate (TPR)')\n",
        "plt.title('kNN(n_neighbors=29) ROC Curve')\n",
        "plt.legend(loc='lower right')\n",
        "\n",
        "# displaying the plot\n",
        "plt.show()"
      ],
      "metadata": {
        "colab": {
          "base_uri": "https://localhost:8080/",
          "height": 472
        },
        "id": "xRusqk9kJkSj",
        "outputId": "e07fe0fc-113f-4af2-a9eb-8727bbbaec8b"
      },
      "execution_count": 19,
      "outputs": [
        {
          "output_type": "display_data",
          "data": {
            "text/plain": [
              "<Figure size 640x480 with 1 Axes>"
            ],
            "image/png": "[encoded data removed]"
          },
          "metadata": {}
        }
      ]
    },
    {
      "cell_type": "markdown",
      "source": [
        "The plot shows the ROC Curves for both the training and testing data along with their respective AUC values. Given that both curves are relatively similar, it indicates that model is generalizable. The AUC values for the Train ROC Curve and the Test ROC Curve are 0.83 and 0.81 respectively indicating relatively high model performance."
      ],
      "metadata": {
        "id": "WWjlCZMXDTZA"
      }
    }
  ]
}